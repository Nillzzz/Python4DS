{
  "nbformat": 4,
  "nbformat_minor": 0,
  "metadata": {
    "colab": {
      "name": "Untitled30.ipynb",
      "provenance": [],
      "collapsed_sections": [
        "95beyhNgc3rY",
        "bbSPzXyPdemr",
        "XM3QeBKugZEm"
      ],
      "authorship_tag": "ABX9TyPvixsPN+gpaNceGgK6CdqW",
      "include_colab_link": true
    },
    "kernelspec": {
      "name": "python3",
      "display_name": "Python 3"
    }
  },
  "cells": [
    {
      "cell_type": "markdown",
      "metadata": {
        "id": "view-in-github",
        "colab_type": "text"
      },
      "source": [
        "<a href=\"https://colab.research.google.com/github/Nillzzz/Python4DS/blob/master/Mode%201.ipynb\" target=\"_parent\"><img src=\"https://colab.research.google.com/assets/colab-badge.svg\" alt=\"Open In Colab\"/></a>"
      ]
    },
    {
      "cell_type": "code",
      "metadata": {
        "id": "mL4n1xdtSCpb",
        "colab_type": "code",
        "colab": {}
      },
      "source": [
        "import networkx as nx\n",
        "import re, json\n",
        "import matplotlib.pyplot as plt"
      ],
      "execution_count": 1,
      "outputs": []
    },
    {
      "cell_type": "code",
      "metadata": {
        "id": "FUf6ORmqSDcy",
        "colab_type": "code",
        "colab": {}
      },
      "source": [
        "with open('/content/export_35993_batch_hr_Spain_offset_0_1596470000.json', 'r') as f:\n",
        "    dataset = '[' + re.sub(r'\\}\\s\\{', '},{', f.read()) + ']'\n",
        "    dataset = json.loads(dataset.lower())"
      ],
      "execution_count": 51,
      "outputs": []
    },
    {
      "cell_type": "code",
      "metadata": {
        "id": "T7thEk6CSDgJ",
        "colab_type": "code",
        "colab": {
          "base_uri": "https://localhost:8080/",
          "height": 1000
        },
        "outputId": "1630f3b3-7b52-4d64-aced-cacf0de1333d"
      },
      "source": [
        "dataset[0]"
      ],
      "execution_count": 52,
      "outputs": [
        {
          "output_type": "execute_result",
          "data": {
            "text/plain": [
              "{'about': 'excellent experience in sales and business solution, dealing with partners and end customers.\\n 5 years experience in multinational environments.\\n team player, able to manage multitask roles, used to work with targets, result and customer oriented, high multilingual knowledge, excellent communication skills.\\n\\n specialties:\\n - sales, business development, negotiation, account management.\\n - it services, web analytic, web marketing, sem, seo.\\n - languages: fluent in italian, english and spanish.',\n",
              " 'company': {'address_hq': '2201 lakeside blvd. richardson, texas 75082 united states',\n",
              "  'company_intern_id': 'realpage',\n",
              "  'company_name': 'realpage, inc.',\n",
              "  'founded_date': '1998',\n",
              "  'industry': 'computer software',\n",
              "  'location': {'city_name': 'richardson',\n",
              "   'country_name': 'united states',\n",
              "   'state_name': 'texas',\n",
              "   'zip_code': '75082'},\n",
              "  'scraping_services_id': 8613036,\n",
              "  'size_max': 10000,\n",
              "  'size_min': 5001,\n",
              "  'summary': 'realpage, inc. is a leading provider of comprehensive property management software solutions for the multifamily, commercial, single-family and vacation rental housing industries. these solutions help property owners increase efficiency, decrease expenses, enhance the resident experience and generate more revenue. using its innovative saas platform, realpage’s on-demand software enables easy system integration and streamlines online property management. its product line covers the full spectrum of property management, leasing and marketing, asset optimization and resident services solutions. founded in 1998 and headquartered in richardson, texas, realpage currently serves over 12,000 customers worldwide from offices in north america, europe, and asia. for more information about the company, visit http://www.realpage.com. \\r\\n\\r\\nindustry verticals:  conventional, enterprise, institutional, affordable hud, student living, military housing, tax credit, senior living, single family, vacation rentals\\r\\n\\r\\nfollow us on ',\n",
              "  'website': 'http://www.realpage.com'},\n",
              " 'education': [{'degrees': ['laurea, tecnologie della comunicazione, 97/110'],\n",
              "   'education_org': \"università degli studi di roma 'la sapienza'\",\n",
              "   'end': '2010',\n",
              "   'start': '2006',\n",
              "   'summary': \"activities and societies: stage universitario presso f.l.p roma si tratta di un sindacato dei lavoratori pubblici. la mia attività nei 6 mesi ha riguardato l'ufficio stampa, e la stesura attraverso degli articoli del magazine mensile dell'azienda.\"},\n",
              "  {'degrees': ['diploma di specializzazione di 1° livello ds1 in scienze umanistiche e sociali, gestione contenuti web/multimediali e webmaster'],\n",
              "   'education_org': 'dipartimento di management - università la sapienza di roma'}],\n",
              " 'email': {'address_primary': 'alessan***.alecci@realp**e.com',\n",
              "  'mailserver_primary': 'catch_all',\n",
              "  'score_primary': '90_ai_confident'},\n",
              " 'first_name': 'alessandro',\n",
              " 'id': 600442,\n",
              " 'job_history': [{'company_intern_id': 'grupo-intercom',\n",
              "   'company_name': 'grupo intercom',\n",
              "   'description': '_responsible for online/digital sales optimizing, enhancing sales experience, lead generation, developing and maintaining sales campaigns, developing new digital sales possibilities.\\n _present and sell company products and services to current and potential clients.\\n _prepare a variety of status reports, including activity, closings, follow-up, and adherence to goals.\\n _prepare presentations, proposals and sales contracts.\\n _prepare a variety of status reports, including activity, closings, follow-up, and adherence to goals.\\n _establish and maintain current client and potential client relationships.\\n _responsible for developing the online customer (self) service and optimizing the current customer service flow by introducing new methods and functionality.\\n _measuring customer satisfaction and averted calls as well as secure digital transformation to match the current needs of the customers.',\n",
              "   'job_title': 'digital sales executive',\n",
              "   'start': 'august 2014'},\n",
              "  {'company_intern_id': 'tiendeo',\n",
              "   'company_name': 'tiendeo',\n",
              "   'description': 'deep knowledge of online marketing activities, with a strong expertise in acquisition. mainly focused on performance, cost controlling and roi monitoring of any channel, to optimize acquisition costs and minimize cpl/cpa of the deals i have in charge.\\n\\n able to work to manage different projects at the same time, well organized and focused on achieving goals without supervision; able to prioritize.\\n\\n very curious and always willing to learn; professional and friendly, always committed to build up the best team environment, with both colleagues, partners and external agencies.\\n\\n specializzazioni:focus on online marketing activities:\\n - acquisition (sem, affiliate, display adv, partnerships, dem)\\n - seo\\n - web analytics\\n - co-marketing\\n - collective shopping\\n - price comparators\\n - social (facebook adv, fan page, app..)',\n",
              "   'end': 'june 2014',\n",
              "   'job_title': 'inside sales manager',\n",
              "   'start': 'october 2013'},\n",
              "  {'company_intern_id': 'hewlett-packard-employee-purchase-program-',\n",
              "   'company_name': 'hewlett packard (employee purchase program)',\n",
              "   'description': '- selling and advising on printing solutions (b2b).\\n - application of databases to research accounts and uncover new opportunities (business development).\\n - generation of sales quotations.\\n - building the pipeline according to the monthly forecast.\\n - managing the entire service sales cycle from prospect to close.\\n - generating reports about the opportunities created and the sell out for internal use.\\n - ensuring that the integrity of client information is maintained in the database systems.\\n - building and maintaining a close relationship with partners and distributors in order to communicate customer’s requirements and help them to close the deals.\\n - supporting the territory manager.\\n - responsible for the implementation and functionality of business critical systems in the region.',\n",
              "   'end': 'october 2013',\n",
              "   'job_title': 'account manager',\n",
              "   'start': 'march 2012'},\n",
              "  {'company_name': 'koba business s.l',\n",
              "   'description': 'b2b commerce:\\n identifying new business opportunities to increase market share in spain and lmanaging customer base.',\n",
              "   'end': 'february 2012',\n",
              "   'job_title': 'key account representative',\n",
              "   'start': '2011'}],\n",
              " 'job_title': 'sales account executive',\n",
              " 'last_name': 'alecci',\n",
              " 'linkedin_id': 'alessandro-alecci-69b59523',\n",
              " 'linkedin_profile_url': 'https://www.linkedin.com/in/alessandro-alecci-69b59523',\n",
              " 'location': {'city_name': 'barcelona',\n",
              "  'country_name': 'spain',\n",
              "  'state_name': 'catalunya'},\n",
              " 'scraping_services_id': 600442,\n",
              " 'skills': ['b2b',\n",
              "  'b2b marketing',\n",
              "  'business development',\n",
              "  'business development',\n",
              "  'crm',\n",
              "  'customer satisfaction',\n",
              "  'e-commerce seo',\n",
              "  'fundraising',\n",
              "  'gestione vendite',\n",
              "  'it service management',\n",
              "  'international sales',\n",
              "  'lingua inglese',\n",
              "  'management',\n",
              "  'marketing',\n",
              "  'marketing strategy',\n",
              "  'marketing communication',\n",
              "  'marketing online',\n",
              "  'microsoft office',\n",
              "  'negotiation',\n",
              "  'pubblicità online',\n",
              "  'sem',\n",
              "  'seo',\n",
              "  'sales',\n",
              "  'social media',\n",
              "  'social media marketing',\n",
              "  'strategia di marketing',\n",
              "  'trattative',\n",
              "  'vendite',\n",
              "  'web analytics',\n",
              "  'web services',\n",
              "  'web analytics'],\n",
              " 'snapshots': {'2018/10': {'company_name': 'realpage, inc.',\n",
              "   'job_title': 'sales account executive',\n",
              "   'location': {'city_name': 'barcelona', 'country_name': 'spain'}},\n",
              "  '2018/11': {'company_name': 'realpage, inc.',\n",
              "   'job_title': 'sales account executive',\n",
              "   'location': {'city_name': 'barcelona', 'country_name': 'spain'}},\n",
              "  '2018/12': {'company_name': 'realpage, inc.',\n",
              "   'job_title': 'sales account executive',\n",
              "   'location': {'city_name': 'barcelona', 'country_name': 'spain'}},\n",
              "  '2018/7': {'company_name': 'realpage, inc.',\n",
              "   'job_title': 'sales account executive',\n",
              "   'location': {'city_name': 'barcelona', 'country_name': 'spain'}},\n",
              "  '2018/8': {'company_name': 'realpage, inc.',\n",
              "   'job_title': 'sales account executive',\n",
              "   'location': {'city_name': 'barcelona', 'country_name': 'spain'}},\n",
              "  '2018/9': {'company_name': 'realpage, inc.',\n",
              "   'job_title': 'sales account executive',\n",
              "   'location': {'city_name': 'barcelona', 'country_name': 'spain'}},\n",
              "  '2019/1': {'company_name': 'realpage, inc.',\n",
              "   'job_title': 'sales account executive',\n",
              "   'location': {'city_name': 'barcelona', 'country_name': 'spain'}},\n",
              "  '2019/12': {'company_name': 'realpage, inc.',\n",
              "   'job_title': 'sales account executive',\n",
              "   'location': {'city_name': 'barcelona', 'country_name': 'spain'}},\n",
              "  '2019/2': {'company_name': 'realpage, inc.',\n",
              "   'job_title': 'sales account executive',\n",
              "   'location': {'city_name': 'barcelona', 'country_name': 'spain'}},\n",
              "  '2019/4': {'company_name': 'realpage, inc.',\n",
              "   'job_title': 'sales account executive',\n",
              "   'location': {'city_name': 'barcelona', 'country_name': 'spain'}}},\n",
              " 'updated': '2020-05-01',\n",
              " 'v_extension': {'gender': 'male',\n",
              "  'industry_from_job': 'financial services',\n",
              "  'job_functions': 'finance,operations,sales',\n",
              "  'job_group': 'manager: account manager',\n",
              "  'seniority': 'lower management'}}"
            ]
          },
          "metadata": {
            "tags": []
          },
          "execution_count": 52
        }
      ]
    },
    {
      "cell_type": "code",
      "metadata": {
        "id": "WuoSih9cSDoB",
        "colab_type": "code",
        "colab": {}
      },
      "source": [
        "objs = list()\n",
        "\n",
        "for user in dataset:\n",
        "    try:\n",
        "        objs.append({\n",
        "            'full_name': ' '.join([user['first_name'], user['last_name']]),\n",
        "            'industry': user['v_extension']['industry_from_job'],\n",
        "            'functions': user['v_extension']['job_functions'].split(',') if user['v_extension']['job_functions'] else [],\n",
        "            'skills': user['skills'] if 'skills' in user else [],\n",
        "            'location': user['location']['city_name'] if 'city_name' in user['location'] else 'undefined'\n",
        "        })\n",
        "    except:\n",
        "        continue"
      ],
      "execution_count": 53,
      "outputs": []
    },
    {
      "cell_type": "code",
      "metadata": {
        "id": "JjSPRSvuSDrQ",
        "colab_type": "code",
        "colab": {
          "base_uri": "https://localhost:8080/",
          "height": 288
        },
        "outputId": "a7870f04-4a15-46d2-b459-30b4e889077d"
      },
      "source": [
        "import pandas as pd\n",
        "\n",
        "dataset = pd.DataFrame(objs)\n",
        "dataset.head(8)"
      ],
      "execution_count": 54,
      "outputs": [
        {
          "output_type": "execute_result",
          "data": {
            "text/html": [
              "<div>\n",
              "<style scoped>\n",
              "    .dataframe tbody tr th:only-of-type {\n",
              "        vertical-align: middle;\n",
              "    }\n",
              "\n",
              "    .dataframe tbody tr th {\n",
              "        vertical-align: top;\n",
              "    }\n",
              "\n",
              "    .dataframe thead th {\n",
              "        text-align: right;\n",
              "    }\n",
              "</style>\n",
              "<table border=\"1\" class=\"dataframe\">\n",
              "  <thead>\n",
              "    <tr style=\"text-align: right;\">\n",
              "      <th></th>\n",
              "      <th>full_name</th>\n",
              "      <th>industry</th>\n",
              "      <th>functions</th>\n",
              "      <th>skills</th>\n",
              "      <th>location</th>\n",
              "    </tr>\n",
              "  </thead>\n",
              "  <tbody>\n",
              "    <tr>\n",
              "      <th>0</th>\n",
              "      <td>alessandro alecci</td>\n",
              "      <td>financial services</td>\n",
              "      <td>[finance, operations, sales]</td>\n",
              "      <td>[b2b, b2b marketing, business development, bus...</td>\n",
              "      <td>barcelona</td>\n",
              "    </tr>\n",
              "    <tr>\n",
              "      <th>1</th>\n",
              "      <td>liborio oficialdegui</td>\n",
              "      <td>False</td>\n",
              "      <td>[operations]</td>\n",
              "      <td>[]</td>\n",
              "      <td>pamplona</td>\n",
              "    </tr>\n",
              "    <tr>\n",
              "      <th>2</th>\n",
              "      <td>aleen hasck</td>\n",
              "      <td>False</td>\n",
              "      <td>[operations]</td>\n",
              "      <td>[budgets, c, c++, customer service, editing, e...</td>\n",
              "      <td>undefined</td>\n",
              "    </tr>\n",
              "    <tr>\n",
              "      <th>3</th>\n",
              "      <td>alejandro moreno</td>\n",
              "      <td>events services</td>\n",
              "      <td>[administrative]</td>\n",
              "      <td>[]</td>\n",
              "      <td>undefined</td>\n",
              "    </tr>\n",
              "    <tr>\n",
              "      <th>4</th>\n",
              "      <td>mila aleksic</td>\n",
              "      <td>False</td>\n",
              "      <td>[entrepreneurship, operations]</td>\n",
              "      <td>[customer service, english, european union, ge...</td>\n",
              "      <td>undefined</td>\n",
              "    </tr>\n",
              "    <tr>\n",
              "      <th>5</th>\n",
              "      <td>jelena aleksic</td>\n",
              "      <td>None</td>\n",
              "      <td>[]</td>\n",
              "      <td>[]</td>\n",
              "      <td>undefined</td>\n",
              "    </tr>\n",
              "    <tr>\n",
              "      <th>6</th>\n",
              "      <td>natalia cobo</td>\n",
              "      <td>information technology &amp; services</td>\n",
              "      <td>[information technology, operations]</td>\n",
              "      <td>[]</td>\n",
              "      <td>barcelona</td>\n",
              "    </tr>\n",
              "    <tr>\n",
              "      <th>7</th>\n",
              "      <td>federico ynzenga</td>\n",
              "      <td>False</td>\n",
              "      <td>[entrepreneurship, operations]</td>\n",
              "      <td>[business strategy, change management, continu...</td>\n",
              "      <td>undefined</td>\n",
              "    </tr>\n",
              "  </tbody>\n",
              "</table>\n",
              "</div>"
            ],
            "text/plain": [
              "              full_name  ...   location\n",
              "0     alessandro alecci  ...  barcelona\n",
              "1  liborio oficialdegui  ...   pamplona\n",
              "2           aleen hasck  ...  undefined\n",
              "3      alejandro moreno  ...  undefined\n",
              "4          mila aleksic  ...  undefined\n",
              "5        jelena aleksic  ...  undefined\n",
              "6          natalia cobo  ...  barcelona\n",
              "7      federico ynzenga  ...  undefined\n",
              "\n",
              "[8 rows x 5 columns]"
            ]
          },
          "metadata": {
            "tags": []
          },
          "execution_count": 54
        }
      ]
    },
    {
      "cell_type": "markdown",
      "metadata": {
        "id": "Z1xvnLEkWrvt",
        "colab_type": "text"
      },
      "source": [
        "# Language Extraction"
      ]
    },
    {
      "cell_type": "code",
      "metadata": {
        "id": "jFRooRCRzXTV",
        "colab_type": "code",
        "colab": {}
      },
      "source": [
        "def Language_detection(dataset):\n",
        "    l=[]\n",
        "    for i in range(len(dataset)):\n",
        "        lang=[]\n",
        "        for s in dataset.skills.iloc[i]:\n",
        "            if s=='english':\n",
        "                lang.append('english')\n",
        "            if s=='spanish':\n",
        "                lang.append('spanish')\n",
        "            if s=='italian':\n",
        "                lang.append('italian')\n",
        "                break\n",
        "        l.append(lang)\n",
        "    return l"
      ],
      "execution_count": 11,
      "outputs": []
    },
    {
      "cell_type": "code",
      "metadata": {
        "id": "PbhebneEyBmG",
        "colab_type": "code",
        "colab": {
          "base_uri": "https://localhost:8080/",
          "height": 35
        },
        "outputId": "f6b5ba80-6322-4725-dd15-16537daf1097"
      },
      "source": [
        "len(Language_detection(dataset))"
      ],
      "execution_count": 12,
      "outputs": [
        {
          "output_type": "execute_result",
          "data": {
            "text/plain": [
              "199"
            ]
          },
          "metadata": {
            "tags": []
          },
          "execution_count": 12
        }
      ]
    },
    {
      "cell_type": "code",
      "metadata": {
        "id": "XcYkJmAJygBv",
        "colab_type": "code",
        "colab": {}
      },
      "source": [
        "Language_detection(dataset)"
      ],
      "execution_count": null,
      "outputs": []
    },
    {
      "cell_type": "code",
      "metadata": {
        "id": "O-KUDm1elea2",
        "colab_type": "code",
        "colab": {
          "base_uri": "https://localhost:8080/",
          "height": 419
        },
        "outputId": "55da4679-d8cf-464b-e2c2-7788849a9de8"
      },
      "source": [
        "dataset['language'] = Language_detection(dataset)\n",
        "dataset"
      ],
      "execution_count": 14,
      "outputs": [
        {
          "output_type": "execute_result",
          "data": {
            "text/html": [
              "<div>\n",
              "<style scoped>\n",
              "    .dataframe tbody tr th:only-of-type {\n",
              "        vertical-align: middle;\n",
              "    }\n",
              "\n",
              "    .dataframe tbody tr th {\n",
              "        vertical-align: top;\n",
              "    }\n",
              "\n",
              "    .dataframe thead th {\n",
              "        text-align: right;\n",
              "    }\n",
              "</style>\n",
              "<table border=\"1\" class=\"dataframe\">\n",
              "  <thead>\n",
              "    <tr style=\"text-align: right;\">\n",
              "      <th></th>\n",
              "      <th>full_name</th>\n",
              "      <th>industry</th>\n",
              "      <th>functions</th>\n",
              "      <th>skills</th>\n",
              "      <th>location</th>\n",
              "      <th>language</th>\n",
              "    </tr>\n",
              "  </thead>\n",
              "  <tbody>\n",
              "    <tr>\n",
              "      <th>0</th>\n",
              "      <td>alessandro alecci</td>\n",
              "      <td>financial services</td>\n",
              "      <td>[finance, operations, sales]</td>\n",
              "      <td>[b2b, b2b marketing, business development, bus...</td>\n",
              "      <td>barcelona</td>\n",
              "      <td>[]</td>\n",
              "    </tr>\n",
              "    <tr>\n",
              "      <th>1</th>\n",
              "      <td>liborio oficialdegui</td>\n",
              "      <td>False</td>\n",
              "      <td>[operations]</td>\n",
              "      <td>[]</td>\n",
              "      <td>pamplona</td>\n",
              "      <td>[]</td>\n",
              "    </tr>\n",
              "    <tr>\n",
              "      <th>2</th>\n",
              "      <td>aleen hasck</td>\n",
              "      <td>False</td>\n",
              "      <td>[operations]</td>\n",
              "      <td>[budgets, c, c++, customer service, editing, e...</td>\n",
              "      <td>undefined</td>\n",
              "      <td>[english]</td>\n",
              "    </tr>\n",
              "    <tr>\n",
              "      <th>3</th>\n",
              "      <td>alejandro moreno</td>\n",
              "      <td>events services</td>\n",
              "      <td>[administrative]</td>\n",
              "      <td>[]</td>\n",
              "      <td>undefined</td>\n",
              "      <td>[]</td>\n",
              "    </tr>\n",
              "    <tr>\n",
              "      <th>4</th>\n",
              "      <td>mila aleksic</td>\n",
              "      <td>False</td>\n",
              "      <td>[entrepreneurship, operations]</td>\n",
              "      <td>[customer service, english, european union, ge...</td>\n",
              "      <td>undefined</td>\n",
              "      <td>[english]</td>\n",
              "    </tr>\n",
              "    <tr>\n",
              "      <th>...</th>\n",
              "      <td>...</td>\n",
              "      <td>...</td>\n",
              "      <td>...</td>\n",
              "      <td>...</td>\n",
              "      <td>...</td>\n",
              "      <td>...</td>\n",
              "    </tr>\n",
              "    <tr>\n",
              "      <th>194</th>\n",
              "      <td>fatima asali</td>\n",
              "      <td>False</td>\n",
              "      <td>[apprentice]</td>\n",
              "      <td>[]</td>\n",
              "      <td>undefined</td>\n",
              "      <td>[]</td>\n",
              "    </tr>\n",
              "    <tr>\n",
              "      <th>195</th>\n",
              "      <td>ignacio sáez</td>\n",
              "      <td>information technology &amp; services</td>\n",
              "      <td>[information technology, operations]</td>\n",
              "      <td>[.net, android development, angularjs, apache,...</td>\n",
              "      <td>undefined</td>\n",
              "      <td>[english]</td>\n",
              "    </tr>\n",
              "    <tr>\n",
              "      <th>196</th>\n",
              "      <td>alfredo asaoka</td>\n",
              "      <td>False</td>\n",
              "      <td>[operations]</td>\n",
              "      <td>[]</td>\n",
              "      <td>undefined</td>\n",
              "      <td>[]</td>\n",
              "    </tr>\n",
              "    <tr>\n",
              "      <th>197</th>\n",
              "      <td>roberto lucerga</td>\n",
              "      <td>None</td>\n",
              "      <td>[]</td>\n",
              "      <td>[biodiesel production, biofuels, business deve...</td>\n",
              "      <td>alcobendas</td>\n",
              "      <td>[]</td>\n",
              "    </tr>\n",
              "    <tr>\n",
              "      <th>198</th>\n",
              "      <td>leticia hernández</td>\n",
              "      <td>retail</td>\n",
              "      <td>[media &amp; communications, operations, sales]</td>\n",
              "      <td>[arcgis, atención al cliente, bioacústica, bio...</td>\n",
              "      <td>madrid</td>\n",
              "      <td>[]</td>\n",
              "    </tr>\n",
              "  </tbody>\n",
              "</table>\n",
              "<p>199 rows × 6 columns</p>\n",
              "</div>"
            ],
            "text/plain": [
              "                full_name  ...   language\n",
              "0       alessandro alecci  ...         []\n",
              "1    liborio oficialdegui  ...         []\n",
              "2             aleen hasck  ...  [english]\n",
              "3        alejandro moreno  ...         []\n",
              "4            mila aleksic  ...  [english]\n",
              "..                    ...  ...        ...\n",
              "194          fatima asali  ...         []\n",
              "195          ignacio sáez  ...  [english]\n",
              "196        alfredo asaoka  ...         []\n",
              "197       roberto lucerga  ...         []\n",
              "198     leticia hernández  ...         []\n",
              "\n",
              "[199 rows x 6 columns]"
            ]
          },
          "metadata": {
            "tags": []
          },
          "execution_count": 14
        }
      ]
    },
    {
      "cell_type": "markdown",
      "metadata": {
        "id": "EfMKLBtNZqVj",
        "colab_type": "text"
      },
      "source": [
        "# Mode 1\n",
        "\n",
        "Filter based on Location and English Language\n",
        "\n",
        "**Test Case:**\n",
        "\n",
        "* Location = \"Madrid\"\n",
        "*Language = \"English\""
      ]
    },
    {
      "cell_type": "markdown",
      "metadata": {
        "id": "rnnQsVRia8Zd",
        "colab_type": "text"
      },
      "source": [
        "## 1. Filtering Data"
      ]
    },
    {
      "cell_type": "code",
      "metadata": {
        "id": "OY01jlcKauuC",
        "colab_type": "code",
        "colab": {}
      },
      "source": [
        "def Filtering_data (language , location ):\n",
        "    data = dataset[dataset['language'] == [language]]\n",
        "    data= data [data['location']==location]\n",
        "    return data"
      ],
      "execution_count": 15,
      "outputs": []
    },
    {
      "cell_type": "code",
      "metadata": {
        "id": "1JpTnbIq0JXF",
        "colab_type": "code",
        "colab": {}
      },
      "source": [
        "def Filtering_data (language , location ):\n",
        "    l=[]\n",
        "    for i in range(len(dataset)):\n",
        "        for j in range(len(dataset.language.iloc[i])):\n",
        "            if dataset.language.iloc[i][j] == language:\n",
        "                l.append(dataset.iloc[i])\n",
        "                break\n",
        "    data = pd.DataFrame(data=l , columns=['full_name', 'industry', 'functions', 'skills', 'location', 'language'])\n",
        "    data= data [data['location']==location] \n",
        "    return data"
      ],
      "execution_count": 16,
      "outputs": []
    },
    {
      "cell_type": "code",
      "metadata": {
        "id": "qZxk9d88cmiX",
        "colab_type": "code",
        "colab": {
          "base_uri": "https://localhost:8080/",
          "height": 142
        },
        "outputId": "7db9d1dd-cdff-4595-c6ac-31376b63aa59"
      },
      "source": [
        "data = Filtering_data(language='english',location='madrid')\n",
        "data"
      ],
      "execution_count": 17,
      "outputs": [
        {
          "output_type": "execute_result",
          "data": {
            "text/html": [
              "<div>\n",
              "<style scoped>\n",
              "    .dataframe tbody tr th:only-of-type {\n",
              "        vertical-align: middle;\n",
              "    }\n",
              "\n",
              "    .dataframe tbody tr th {\n",
              "        vertical-align: top;\n",
              "    }\n",
              "\n",
              "    .dataframe thead th {\n",
              "        text-align: right;\n",
              "    }\n",
              "</style>\n",
              "<table border=\"1\" class=\"dataframe\">\n",
              "  <thead>\n",
              "    <tr style=\"text-align: right;\">\n",
              "      <th></th>\n",
              "      <th>full_name</th>\n",
              "      <th>industry</th>\n",
              "      <th>functions</th>\n",
              "      <th>skills</th>\n",
              "      <th>location</th>\n",
              "      <th>language</th>\n",
              "    </tr>\n",
              "  </thead>\n",
              "  <tbody>\n",
              "    <tr>\n",
              "      <th>43</th>\n",
              "      <td>ander gómez</td>\n",
              "      <td>False</td>\n",
              "      <td>[operations]</td>\n",
              "      <td>[business operations, business strategy, chang...</td>\n",
              "      <td>madrid</td>\n",
              "      <td>[english, spanish]</td>\n",
              "    </tr>\n",
              "    <tr>\n",
              "      <th>67</th>\n",
              "      <td>alexander vega</td>\n",
              "      <td>None</td>\n",
              "      <td>[]</td>\n",
              "      <td>[agribusiness, agriculture, agronomy, english,...</td>\n",
              "      <td>madrid</td>\n",
              "      <td>[english, spanish]</td>\n",
              "    </tr>\n",
              "    <tr>\n",
              "      <th>170</th>\n",
              "      <td>daniel artalejo</td>\n",
              "      <td>computer software</td>\n",
              "      <td>[information technology]</td>\n",
              "      <td>[android, angularjs, c (programación), c++, cs...</td>\n",
              "      <td>madrid</td>\n",
              "      <td>[english]</td>\n",
              "    </tr>\n",
              "  </tbody>\n",
              "</table>\n",
              "</div>"
            ],
            "text/plain": [
              "           full_name           industry  ... location            language\n",
              "43       ander gómez              False  ...   madrid  [english, spanish]\n",
              "67    alexander vega               None  ...   madrid  [english, spanish]\n",
              "170  daniel artalejo  computer software  ...   madrid           [english]\n",
              "\n",
              "[3 rows x 6 columns]"
            ]
          },
          "metadata": {
            "tags": []
          },
          "execution_count": 17
        }
      ]
    },
    {
      "cell_type": "markdown",
      "metadata": {
        "id": "95beyhNgc3rY",
        "colab_type": "text"
      },
      "source": [
        "## 2. Building the graph"
      ]
    },
    {
      "cell_type": "code",
      "metadata": {
        "id": "m3hCztJodDE6",
        "colab_type": "code",
        "colab": {}
      },
      "source": [
        "def Building_Digraph (data):\n",
        "    graph = nx.DiGraph()\n",
        "    for row, index in data.iterrows():\n",
        "        if index['industry'] is not False:\n",
        "            graph.add_edge(u_of_edge=index['full_name'],v_of_edge=index['industry'])\n",
        "        if index['location'] != \"Undefined\":\n",
        "            graph.add_edge(u_of_edge=index['full_name'],v_of_edge=index['location'])\n",
        "        for skill in index['skills']:\n",
        "            graph.add_edge(u_of_edge=skill, v_of_edge=index['full_name'])\n",
        "        for function in index['functions']:\n",
        "            graph.add_edge(u_of_edge=index['full_name'], v_of_edge=function)\n",
        "    return graph\n",
        "                "
      ],
      "execution_count": 18,
      "outputs": []
    },
    {
      "cell_type": "code",
      "metadata": {
        "id": "D6hPSWvSdDJ2",
        "colab_type": "code",
        "colab": {}
      },
      "source": [
        "DiG = Building_Digraph(data)"
      ],
      "execution_count": 19,
      "outputs": []
    },
    {
      "cell_type": "markdown",
      "metadata": {
        "id": "bbSPzXyPdemr",
        "colab_type": "text"
      },
      "source": [
        "## 3. Digraph Visualization"
      ]
    },
    {
      "cell_type": "code",
      "metadata": {
        "id": "yrtJqkdfdDI-",
        "colab_type": "code",
        "colab": {}
      },
      "source": [
        "def DiGraph_visualization (DiG):\n",
        "    plt.figure(figsize=(20,10))\n",
        "    nx.draw(DiG, with_labels=True, node_size=50, node_color=\"skyblue\", node_shape=\"s\", alpha=0.8, linewidths=4)\n",
        "    plt.show()"
      ],
      "execution_count": 20,
      "outputs": []
    },
    {
      "cell_type": "code",
      "metadata": {
        "id": "cmrrpIVEdjFk",
        "colab_type": "code",
        "colab": {
          "base_uri": "https://localhost:8080/",
          "height": 0
        },
        "outputId": "c79ce5ef-4d07-426f-e2fa-0eb1dae8c7c5"
      },
      "source": [
        "DiGraph_visualization(DiG)"
      ],
      "execution_count": 21,
      "outputs": [
        {
          "output_type": "display_data",
          "data": {
            "image/png": "[encoded data removed]",
            "text/plain": [
              "<Figure size 1440x720 with 1 Axes>"
            ]
          },
          "metadata": {
            "tags": []
          }
        }
      ]
    },
    {
      "cell_type": "markdown",
      "metadata": {
        "colab_type": "text",
        "id": "XM3QeBKugZEm"
      },
      "source": [
        "## 4. Graph Feature Analysis"
      ]
    },
    {
      "cell_type": "code",
      "metadata": {
        "id": "mQkRrZljEDNn",
        "colab_type": "code",
        "colab": {}
      },
      "source": [
        "def Graph_measurements(DiG):\n",
        "    dict1 =(nx.in_degree_centrality(DiG))\n",
        "    result= pd.DataFrame(data= dict1, columns=['node','indegree_centrality','outdegree_centrality','in_degree','out_degree','degree','closeness_centrality','betweenness_centrality','skills'])\n",
        "    node=[]\n",
        "    indegcent=[]\n",
        "    for k,v in dict1.items():\n",
        "        node.append(k)\n",
        "        indegcent.append(v)\n",
        "    \n",
        "    result['node'] = node\n",
        "    result['indegree_centrality'] = indegcent\n",
        "    result = result.set_index('node')\n",
        "    \n",
        "    dict1 =(nx.out_degree_centrality(DiG))\n",
        "    for k,v in dict1.items():\n",
        "        result['outdegree_centrality'].loc[k]=(v)\n",
        "    \n",
        "    dict1 = dict(DiG.in_degree(list(DiG.nodes)))\n",
        "    for k,v in dict1.items():\n",
        "        result['in_degree'].loc[k]=(v)\n",
        "    \n",
        "    dict1 = dict(DiG.out_degree(list(DiG.nodes)))\n",
        "    for k,v in dict1.items():\n",
        "        result['out_degree'].loc[k]=(v)\n",
        "\n",
        "    dict1 = dict(DiG.degree(list(DiG.nodes)))\n",
        "    for k,v in dict1.items():\n",
        "        result['degree'].loc[k]=(v)\n",
        "\n",
        "    dict1 = nx.closeness_centrality(DiG)\n",
        "    for k,v in dict1.items():\n",
        "        result['closeness_centrality'].loc[k]=(v)\n",
        "\n",
        "    dict1 = nx.betweenness_centrality(DiG)\n",
        "    for k,v in dict1.items():\n",
        "        result['betweenness_centrality'].loc[k]=(v)\n",
        "    return result\n"
      ],
      "execution_count": 32,
      "outputs": []
    },
    {
      "cell_type": "code",
      "metadata": {
        "id": "19vwMgqDT8zB",
        "colab_type": "code",
        "colab": {
          "base_uri": "https://localhost:8080/",
          "height": 0
        },
        "outputId": "c4635840-f190-4944-fbf8-e889da02c0d9"
      },
      "source": [
        "output = Graph_measurements(DiG)\n",
        "output.head()"
      ],
      "execution_count": 64,
      "outputs": [
        {
          "output_type": "stream",
          "text": [
            "/usr/local/lib/python3.6/dist-packages/pandas/core/indexing.py:671: SettingWithCopyWarning: \n",
            "A value is trying to be set on a copy of a slice from a DataFrame\n",
            "\n",
            "See the caveats in the documentation: https://pandas.pydata.org/pandas-docs/stable/user_guide/indexing.html#returning-a-view-versus-a-copy\n",
            "  self._setitem_with_indexer(indexer, value)\n"
          ],
          "name": "stderr"
        },
        {
          "output_type": "execute_result",
          "data": {
            "text/html": [
              "<div>\n",
              "<style scoped>\n",
              "    .dataframe tbody tr th:only-of-type {\n",
              "        vertical-align: middle;\n",
              "    }\n",
              "\n",
              "    .dataframe tbody tr th {\n",
              "        vertical-align: top;\n",
              "    }\n",
              "\n",
              "    .dataframe thead th {\n",
              "        text-align: right;\n",
              "    }\n",
              "</style>\n",
              "<table border=\"1\" class=\"dataframe\">\n",
              "  <thead>\n",
              "    <tr style=\"text-align: right;\">\n",
              "      <th></th>\n",
              "      <th>indegree_centrality</th>\n",
              "      <th>outdegree_centrality</th>\n",
              "      <th>in_degree</th>\n",
              "      <th>out_degree</th>\n",
              "      <th>degree</th>\n",
              "      <th>closeness_centrality</th>\n",
              "      <th>betweenness_centrality</th>\n",
              "      <th>skills</th>\n",
              "    </tr>\n",
              "    <tr>\n",
              "      <th>node</th>\n",
              "      <th></th>\n",
              "      <th></th>\n",
              "      <th></th>\n",
              "      <th></th>\n",
              "      <th></th>\n",
              "      <th></th>\n",
              "      <th></th>\n",
              "      <th></th>\n",
              "    </tr>\n",
              "  </thead>\n",
              "  <tbody>\n",
              "    <tr>\n",
              "      <th>ander gómez</th>\n",
              "      <td>0.253731</td>\n",
              "      <td>0.0298507</td>\n",
              "      <td>17</td>\n",
              "      <td>2</td>\n",
              "      <td>19</td>\n",
              "      <td>0.253731</td>\n",
              "      <td>0.007425</td>\n",
              "      <td>NaN</td>\n",
              "    </tr>\n",
              "    <tr>\n",
              "      <th>madrid</th>\n",
              "      <td>0.044776</td>\n",
              "      <td>0</td>\n",
              "      <td>3</td>\n",
              "      <td>0</td>\n",
              "      <td>3</td>\n",
              "      <td>0.481616</td>\n",
              "      <td>0</td>\n",
              "      <td>NaN</td>\n",
              "    </tr>\n",
              "    <tr>\n",
              "      <th>business operations</th>\n",
              "      <td>0.000000</td>\n",
              "      <td>0.0149254</td>\n",
              "      <td>0</td>\n",
              "      <td>1</td>\n",
              "      <td>1</td>\n",
              "      <td>0</td>\n",
              "      <td>0</td>\n",
              "      <td>NaN</td>\n",
              "    </tr>\n",
              "    <tr>\n",
              "      <th>business strategy</th>\n",
              "      <td>0.000000</td>\n",
              "      <td>0.0149254</td>\n",
              "      <td>0</td>\n",
              "      <td>1</td>\n",
              "      <td>1</td>\n",
              "      <td>0</td>\n",
              "      <td>0</td>\n",
              "      <td>NaN</td>\n",
              "    </tr>\n",
              "    <tr>\n",
              "      <th>change management</th>\n",
              "      <td>0.000000</td>\n",
              "      <td>0.0149254</td>\n",
              "      <td>0</td>\n",
              "      <td>1</td>\n",
              "      <td>1</td>\n",
              "      <td>0</td>\n",
              "      <td>0</td>\n",
              "      <td>NaN</td>\n",
              "    </tr>\n",
              "  </tbody>\n",
              "</table>\n",
              "</div>"
            ],
            "text/plain": [
              "                     indegree_centrality  ... skills\n",
              "node                                      ...       \n",
              "ander gómez                     0.253731  ...    NaN\n",
              "madrid                          0.044776  ...    NaN\n",
              "business operations             0.000000  ...    NaN\n",
              "business strategy               0.000000  ...    NaN\n",
              "change management               0.000000  ...    NaN\n",
              "\n",
              "[5 rows x 8 columns]"
            ]
          },
          "metadata": {
            "tags": []
          },
          "execution_count": 64
        }
      ]
    },
    {
      "cell_type": "markdown",
      "metadata": {
        "id": "-8mgzNkbUer8",
        "colab_type": "text"
      },
      "source": [
        "## 5. Merge Dataframes"
      ]
    },
    {
      "cell_type": "code",
      "metadata": {
        "id": "EJif-PmPtZxk",
        "colab_type": "code",
        "colab": {}
      },
      "source": [
        "def Merge_results (data, output):\n",
        "    output= output.reset_index()\n",
        "    l=[]\n",
        "    m1,m2, m3, m4, m5, m6 , m7=[],[],[],[],[],[],[]\n",
        "    for node in User_filter_City (DiG, city = 'madrid'):\n",
        "        for i in range(len(data)):\n",
        "            if data.full_name.iloc[i] == node:\n",
        "                l.append(data.iloc[i])\n",
        "        for j in range(len(output)):\n",
        "            if output.node.iloc[j] == node:\n",
        "                m1.append(output.indegree_centrality.iloc[j])\n",
        "                m2.append(output.outdegree_centrality.iloc[j])\n",
        "                m3.append(output.in_degree.iloc[j])\n",
        "                m4.append(output.out_degree.iloc[j])\n",
        "                m5.append(output.degree.iloc[j])\n",
        "                m6.append(output.closeness_centrality.iloc[j])\n",
        "                m7.append(output.betweenness_centrality.iloc[j])\n",
        "    res = pd.DataFrame(data=l , columns = ['full_name', 'industry', 'functions', 'skills', 'location', 'indegree_centrality', 'outdegree_centrality', 'in_degree', 'out_degree', 'degree', 'closeness_centrality','betweenness_centrality'])\n",
        "    res['indegree_centrality']=m1\n",
        "    res['outdegree_centrality']=m2\n",
        "    res['in_degree']=m3\n",
        "    res['out_degree']=m4\n",
        "    res['degree']=m5\n",
        "    res['closeness_centrality']=m6\n",
        "    res['betweenness_centrality']=m7\n",
        "    return res"
      ],
      "execution_count": 102,
      "outputs": []
    },
    {
      "cell_type": "code",
      "metadata": {
        "id": "9hIZGUS2uAq_",
        "colab_type": "code",
        "colab": {
          "base_uri": "https://localhost:8080/",
          "height": 210
        },
        "outputId": "211875f9-a074-48ce-d3c9-a16e9e9eb840"
      },
      "source": [
        "querry_result = Merge_results(data, output)\n",
        "querry_result"
      ],
      "execution_count": 104,
      "outputs": [
        {
          "output_type": "execute_result",
          "data": {
            "text/html": [
              "<div>\n",
              "<style scoped>\n",
              "    .dataframe tbody tr th:only-of-type {\n",
              "        vertical-align: middle;\n",
              "    }\n",
              "\n",
              "    .dataframe tbody tr th {\n",
              "        vertical-align: top;\n",
              "    }\n",
              "\n",
              "    .dataframe thead th {\n",
              "        text-align: right;\n",
              "    }\n",
              "</style>\n",
              "<table border=\"1\" class=\"dataframe\">\n",
              "  <thead>\n",
              "    <tr style=\"text-align: right;\">\n",
              "      <th></th>\n",
              "      <th>full_name</th>\n",
              "      <th>industry</th>\n",
              "      <th>functions</th>\n",
              "      <th>skills</th>\n",
              "      <th>location</th>\n",
              "      <th>indegree_centrality</th>\n",
              "      <th>outdegree_centrality</th>\n",
              "      <th>in_degree</th>\n",
              "      <th>out_degree</th>\n",
              "      <th>degree</th>\n",
              "      <th>closeness_centrality</th>\n",
              "      <th>betweenness_centrality</th>\n",
              "    </tr>\n",
              "  </thead>\n",
              "  <tbody>\n",
              "    <tr>\n",
              "      <th>43</th>\n",
              "      <td>ander gómez</td>\n",
              "      <td>False</td>\n",
              "      <td>[operations]</td>\n",
              "      <td>[business operations, business strategy, chang...</td>\n",
              "      <td>madrid</td>\n",
              "      <td>0.253731</td>\n",
              "      <td>0.029851</td>\n",
              "      <td>17</td>\n",
              "      <td>2</td>\n",
              "      <td>19</td>\n",
              "      <td>0.253731</td>\n",
              "      <td>0.007425</td>\n",
              "    </tr>\n",
              "    <tr>\n",
              "      <th>67</th>\n",
              "      <td>alexander vega</td>\n",
              "      <td>None</td>\n",
              "      <td>[]</td>\n",
              "      <td>[agribusiness, agriculture, agronomy, english,...</td>\n",
              "      <td>madrid</td>\n",
              "      <td>0.179104</td>\n",
              "      <td>0.029851</td>\n",
              "      <td>12</td>\n",
              "      <td>2</td>\n",
              "      <td>14</td>\n",
              "      <td>0.179104</td>\n",
              "      <td>0.005164</td>\n",
              "    </tr>\n",
              "    <tr>\n",
              "      <th>170</th>\n",
              "      <td>daniel artalejo</td>\n",
              "      <td>computer software</td>\n",
              "      <td>[information technology]</td>\n",
              "      <td>[android, angularjs, c (programación), c++, cs...</td>\n",
              "      <td>madrid</td>\n",
              "      <td>0.507463</td>\n",
              "      <td>0.044776</td>\n",
              "      <td>34</td>\n",
              "      <td>3</td>\n",
              "      <td>37</td>\n",
              "      <td>0.507463</td>\n",
              "      <td>0.022916</td>\n",
              "    </tr>\n",
              "  </tbody>\n",
              "</table>\n",
              "</div>"
            ],
            "text/plain": [
              "           full_name  ... betweenness_centrality\n",
              "43       ander gómez  ...               0.007425\n",
              "67    alexander vega  ...               0.005164\n",
              "170  daniel artalejo  ...               0.022916\n",
              "\n",
              "[3 rows x 12 columns]"
            ]
          },
          "metadata": {
            "tags": []
          },
          "execution_count": 104
        }
      ]
    },
    {
      "cell_type": "code",
      "metadata": {
        "id": "KxuyfFjvYBB3",
        "colab_type": "code",
        "colab": {
          "base_uri": "https://localhost:8080/",
          "height": 419
        },
        "outputId": "6a63f479-7aa2-490a-ce9a-a393f9418bd9"
      },
      "source": [
        "output= output.reset_index()\n",
        "output"
      ],
      "execution_count": 65,
      "outputs": [
        {
          "output_type": "execute_result",
          "data": {
            "text/html": [
              "<div>\n",
              "<style scoped>\n",
              "    .dataframe tbody tr th:only-of-type {\n",
              "        vertical-align: middle;\n",
              "    }\n",
              "\n",
              "    .dataframe tbody tr th {\n",
              "        vertical-align: top;\n",
              "    }\n",
              "\n",
              "    .dataframe thead th {\n",
              "        text-align: right;\n",
              "    }\n",
              "</style>\n",
              "<table border=\"1\" class=\"dataframe\">\n",
              "  <thead>\n",
              "    <tr style=\"text-align: right;\">\n",
              "      <th></th>\n",
              "      <th>node</th>\n",
              "      <th>indegree_centrality</th>\n",
              "      <th>outdegree_centrality</th>\n",
              "      <th>in_degree</th>\n",
              "      <th>out_degree</th>\n",
              "      <th>degree</th>\n",
              "      <th>closeness_centrality</th>\n",
              "      <th>betweenness_centrality</th>\n",
              "      <th>skills</th>\n",
              "    </tr>\n",
              "  </thead>\n",
              "  <tbody>\n",
              "    <tr>\n",
              "      <th>0</th>\n",
              "      <td>ander gómez</td>\n",
              "      <td>0.253731</td>\n",
              "      <td>0.0298507</td>\n",
              "      <td>17</td>\n",
              "      <td>2</td>\n",
              "      <td>19</td>\n",
              "      <td>0.253731</td>\n",
              "      <td>0.007425</td>\n",
              "      <td>NaN</td>\n",
              "    </tr>\n",
              "    <tr>\n",
              "      <th>1</th>\n",
              "      <td>madrid</td>\n",
              "      <td>0.044776</td>\n",
              "      <td>0</td>\n",
              "      <td>3</td>\n",
              "      <td>0</td>\n",
              "      <td>3</td>\n",
              "      <td>0.481616</td>\n",
              "      <td>0</td>\n",
              "      <td>NaN</td>\n",
              "    </tr>\n",
              "    <tr>\n",
              "      <th>2</th>\n",
              "      <td>business operations</td>\n",
              "      <td>0.000000</td>\n",
              "      <td>0.0149254</td>\n",
              "      <td>0</td>\n",
              "      <td>1</td>\n",
              "      <td>1</td>\n",
              "      <td>0</td>\n",
              "      <td>0</td>\n",
              "      <td>NaN</td>\n",
              "    </tr>\n",
              "    <tr>\n",
              "      <th>3</th>\n",
              "      <td>business strategy</td>\n",
              "      <td>0.000000</td>\n",
              "      <td>0.0149254</td>\n",
              "      <td>0</td>\n",
              "      <td>1</td>\n",
              "      <td>1</td>\n",
              "      <td>0</td>\n",
              "      <td>0</td>\n",
              "      <td>NaN</td>\n",
              "    </tr>\n",
              "    <tr>\n",
              "      <th>4</th>\n",
              "      <td>change management</td>\n",
              "      <td>0.000000</td>\n",
              "      <td>0.0149254</td>\n",
              "      <td>0</td>\n",
              "      <td>1</td>\n",
              "      <td>1</td>\n",
              "      <td>0</td>\n",
              "      <td>0</td>\n",
              "      <td>NaN</td>\n",
              "    </tr>\n",
              "    <tr>\n",
              "      <th>...</th>\n",
              "      <td>...</td>\n",
              "      <td>...</td>\n",
              "      <td>...</td>\n",
              "      <td>...</td>\n",
              "      <td>...</td>\n",
              "      <td>...</td>\n",
              "      <td>...</td>\n",
              "      <td>...</td>\n",
              "      <td>...</td>\n",
              "    </tr>\n",
              "    <tr>\n",
              "      <th>63</th>\n",
              "      <td>jquery</td>\n",
              "      <td>0.000000</td>\n",
              "      <td>0.0149254</td>\n",
              "      <td>0</td>\n",
              "      <td>1</td>\n",
              "      <td>1</td>\n",
              "      <td>0</td>\n",
              "      <td>0</td>\n",
              "      <td>NaN</td>\n",
              "    </tr>\n",
              "    <tr>\n",
              "      <th>64</th>\n",
              "      <td>pentesting</td>\n",
              "      <td>0.000000</td>\n",
              "      <td>0.0149254</td>\n",
              "      <td>0</td>\n",
              "      <td>1</td>\n",
              "      <td>1</td>\n",
              "      <td>0</td>\n",
              "      <td>0</td>\n",
              "      <td>NaN</td>\n",
              "    </tr>\n",
              "    <tr>\n",
              "      <th>65</th>\n",
              "      <td>wxwidgets</td>\n",
              "      <td>0.000000</td>\n",
              "      <td>0.0149254</td>\n",
              "      <td>0</td>\n",
              "      <td>1</td>\n",
              "      <td>1</td>\n",
              "      <td>0</td>\n",
              "      <td>0</td>\n",
              "      <td>NaN</td>\n",
              "    </tr>\n",
              "    <tr>\n",
              "      <th>66</th>\n",
              "      <td>xamarin</td>\n",
              "      <td>0.000000</td>\n",
              "      <td>0.0149254</td>\n",
              "      <td>0</td>\n",
              "      <td>1</td>\n",
              "      <td>1</td>\n",
              "      <td>0</td>\n",
              "      <td>0</td>\n",
              "      <td>NaN</td>\n",
              "    </tr>\n",
              "    <tr>\n",
              "      <th>67</th>\n",
              "      <td>information technology</td>\n",
              "      <td>0.014925</td>\n",
              "      <td>0</td>\n",
              "      <td>1</td>\n",
              "      <td>0</td>\n",
              "      <td>1</td>\n",
              "      <td>0.264979</td>\n",
              "      <td>0</td>\n",
              "      <td>NaN</td>\n",
              "    </tr>\n",
              "  </tbody>\n",
              "</table>\n",
              "<p>68 rows × 9 columns</p>\n",
              "</div>"
            ],
            "text/plain": [
              "                      node  indegree_centrality  ... betweenness_centrality skills\n",
              "0              ander gómez             0.253731  ...               0.007425    NaN\n",
              "1                   madrid             0.044776  ...                      0    NaN\n",
              "2      business operations             0.000000  ...                      0    NaN\n",
              "3        business strategy             0.000000  ...                      0    NaN\n",
              "4        change management             0.000000  ...                      0    NaN\n",
              "..                     ...                  ...  ...                    ...    ...\n",
              "63                  jquery             0.000000  ...                      0    NaN\n",
              "64              pentesting             0.000000  ...                      0    NaN\n",
              "65               wxwidgets             0.000000  ...                      0    NaN\n",
              "66                 xamarin             0.000000  ...                      0    NaN\n",
              "67  information technology             0.014925  ...                      0    NaN\n",
              "\n",
              "[68 rows x 9 columns]"
            ]
          },
          "metadata": {
            "tags": []
          },
          "execution_count": 65
        }
      ]
    },
    {
      "cell_type": "code",
      "metadata": {
        "id": "ozuG1i7tUePk",
        "colab_type": "code",
        "colab": {}
      },
      "source": [
        "l=[]\n",
        "m1,m2, m3, m4, m5, m6 , m7=[],[],[],[],[],[],[]\n",
        "for node in User_filter_City (DiG, city = 'madrid'):\n",
        "    for i in range(len(dataset)):\n",
        "        if dataset.full_name.iloc[i] == node:\n",
        "            l.append(dataset.iloc[i])\n",
        "    for j in range(len(output)):\n",
        "        if output.node.iloc[j] == node:\n",
        "            m1.append(output.indegree_centrality.iloc[j])\n",
        "            m2.append(output.outdegree_centrality.iloc[j])\n",
        "            m3.append(output.in_degree.iloc[j])\n",
        "            m4.append(output.out_degree.iloc[j])\n",
        "            m5.append(output.degree.iloc[j])\n",
        "            m6.append(output.closeness_centrality.iloc[j])\n",
        "            m7.append(output.betweenness_centrality.iloc[j])\n"
      ],
      "execution_count": 99,
      "outputs": []
    },
    {
      "cell_type": "code",
      "metadata": {
        "id": "Z71HNfSDn6dh",
        "colab_type": "code",
        "colab": {
          "base_uri": "https://localhost:8080/",
          "height": 210
        },
        "outputId": "34c5db07-5616-46b8-c294-998cc38433b6"
      },
      "source": [
        "res = pd.DataFrame(data=l , columns = ['full_name', 'industry', 'functions', 'skills', 'location', 'indegree_centrality', 'outdegree_centrality', 'in_degree', 'out_degree', 'degree', 'closeness_centrality','betweenness_centrality'])\n",
        "res['indegree_centrality']=m1\n",
        "res['outdegree_centrality']=m2\n",
        "res['in_degree']=m3\n",
        "res['out_degree']=m4\n",
        "res['degree']=m5\n",
        "res['closeness_centrality']=m6\n",
        "res['betweenness_centrality']=m7\n",
        "res.head()"
      ],
      "execution_count": 101,
      "outputs": [
        {
          "output_type": "execute_result",
          "data": {
            "text/html": [
              "<div>\n",
              "<style scoped>\n",
              "    .dataframe tbody tr th:only-of-type {\n",
              "        vertical-align: middle;\n",
              "    }\n",
              "\n",
              "    .dataframe tbody tr th {\n",
              "        vertical-align: top;\n",
              "    }\n",
              "\n",
              "    .dataframe thead th {\n",
              "        text-align: right;\n",
              "    }\n",
              "</style>\n",
              "<table border=\"1\" class=\"dataframe\">\n",
              "  <thead>\n",
              "    <tr style=\"text-align: right;\">\n",
              "      <th></th>\n",
              "      <th>full_name</th>\n",
              "      <th>industry</th>\n",
              "      <th>functions</th>\n",
              "      <th>skills</th>\n",
              "      <th>location</th>\n",
              "      <th>indegree_centrality</th>\n",
              "      <th>outdegree_centrality</th>\n",
              "      <th>in_degree</th>\n",
              "      <th>out_degree</th>\n",
              "      <th>degree</th>\n",
              "      <th>closeness_centrality</th>\n",
              "      <th>betweenness_centrality</th>\n",
              "    </tr>\n",
              "  </thead>\n",
              "  <tbody>\n",
              "    <tr>\n",
              "      <th>43</th>\n",
              "      <td>ander gómez</td>\n",
              "      <td>False</td>\n",
              "      <td>[operations]</td>\n",
              "      <td>[business operations, business strategy, chang...</td>\n",
              "      <td>madrid</td>\n",
              "      <td>0.253731</td>\n",
              "      <td>0.029851</td>\n",
              "      <td>17</td>\n",
              "      <td>2</td>\n",
              "      <td>19</td>\n",
              "      <td>0.253731</td>\n",
              "      <td>0.007425</td>\n",
              "    </tr>\n",
              "    <tr>\n",
              "      <th>67</th>\n",
              "      <td>alexander vega</td>\n",
              "      <td>None</td>\n",
              "      <td>[]</td>\n",
              "      <td>[agribusiness, agriculture, agronomy, english,...</td>\n",
              "      <td>madrid</td>\n",
              "      <td>0.179104</td>\n",
              "      <td>0.029851</td>\n",
              "      <td>12</td>\n",
              "      <td>2</td>\n",
              "      <td>14</td>\n",
              "      <td>0.179104</td>\n",
              "      <td>0.005164</td>\n",
              "    </tr>\n",
              "    <tr>\n",
              "      <th>170</th>\n",
              "      <td>daniel artalejo</td>\n",
              "      <td>computer software</td>\n",
              "      <td>[information technology]</td>\n",
              "      <td>[android, angularjs, c (programación), c++, cs...</td>\n",
              "      <td>madrid</td>\n",
              "      <td>0.507463</td>\n",
              "      <td>0.044776</td>\n",
              "      <td>34</td>\n",
              "      <td>3</td>\n",
              "      <td>37</td>\n",
              "      <td>0.507463</td>\n",
              "      <td>0.022916</td>\n",
              "    </tr>\n",
              "  </tbody>\n",
              "</table>\n",
              "</div>"
            ],
            "text/plain": [
              "           full_name  ... betweenness_centrality\n",
              "43       ander gómez  ...               0.007425\n",
              "67    alexander vega  ...               0.005164\n",
              "170  daniel artalejo  ...               0.022916\n",
              "\n",
              "[3 rows x 12 columns]"
            ]
          },
          "metadata": {
            "tags": []
          },
          "execution_count": 101
        }
      ]
    },
    {
      "cell_type": "markdown",
      "metadata": {
        "id": "6d_ba-4IOePS",
        "colab_type": "text"
      },
      "source": [
        "## Neighbours"
      ]
    },
    {
      "cell_type": "code",
      "metadata": {
        "id": "MVhOYGzd8FVT",
        "colab_type": "code",
        "colab": {}
      },
      "source": [
        "# Filtering People based on the city:\n",
        "def User_filter_City (DiG, city):\n",
        "    return list(nx.all_neighbors(DiG, city))"
      ],
      "execution_count": 37,
      "outputs": []
    },
    {
      "cell_type": "code",
      "metadata": {
        "id": "OC1m7iFWUVKk",
        "colab_type": "code",
        "colab": {
          "base_uri": "https://localhost:8080/",
          "height": 34
        },
        "outputId": "fb0043ed-a016-480c-c916-30fe86c52024"
      },
      "source": [
        "User_filter_City (DiG, city = 'madrid')"
      ],
      "execution_count": 38,
      "outputs": [
        {
          "output_type": "execute_result",
          "data": {
            "text/plain": [
              "['ander gómez', 'alexander vega', 'daniel artalejo']"
            ]
          },
          "metadata": {
            "tags": []
          },
          "execution_count": 38
        }
      ]
    },
    {
      "cell_type": "markdown",
      "metadata": {
        "id": "XznoM9UiAbP6",
        "colab_type": "text"
      },
      "source": [
        "## Suggestion"
      ]
    },
    {
      "cell_type": "code",
      "metadata": {
        "id": "SpCsSvuOcmtT",
        "colab_type": "code",
        "colab": {}
      },
      "source": [
        "def Suggestions (DiG , city):\n",
        "    users = dict()\n",
        "    l=list(nx.all_neighbors(DiG, city))\n",
        "    for ppl in l:\n",
        "        users['Full_name']= ppl\n",
        "        skills = data[data['full_name']== ppl]['skill']\n",
        "    return users"
      ],
      "execution_count": null,
      "outputs": []
    }
  ]
}
